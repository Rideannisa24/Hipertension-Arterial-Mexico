{
 "cells": [
  {
   "cell_type": "markdown",
   "metadata": {},
   "source": [
    "=======================================================================================================================================================\n",
    "\n",
    "Nama  : Rizqia Dewi Annisa\n",
    "\n",
    "Program ini dibuat untuk melakukan automatisasi transform dan load data dari PostgreSQL ke ElasticSearch. Adapun dataset yang dipakai adalah dataset mengenai Hipertension Arterial Mexico (Resiko Tekanan Darah Tinggi Masyarakat Mexico) Tahun 2022.\n",
    "\n",
    "========================================================================================================================================================"
   ]
  },
  {
   "cell_type": "code",
   "execution_count": 105,
   "metadata": {},
   "outputs": [],
   "source": [
    "# import libraries\n",
    "import great_expectations as gx\n",
    "import pandas as pd\n",
    "from great_expectations.checkpoint import Checkpoint"
   ]
  },
  {
   "cell_type": "code",
   "execution_count": 106,
   "metadata": {},
   "outputs": [],
   "source": [
    "# mendefine environmet mengambil context di environtment gx\n",
    "context = gx.get_context()"
   ]
  },
  {
   "cell_type": "code",
   "execution_count": 107,
   "metadata": {},
   "outputs": [],
   "source": [
    "# mendefine datasource\n",
    "datasource = context.sources.add_pandas(name=\"datasource1\")"
   ]
  },
  {
   "cell_type": "code",
   "execution_count": 112,
   "metadata": {},
   "outputs": [
    {
     "data": {
      "text/html": [
       "<div>\n",
       "<style scoped>\n",
       "    .dataframe tbody tr th:only-of-type {\n",
       "        vertical-align: middle;\n",
       "    }\n",
       "\n",
       "    .dataframe tbody tr th {\n",
       "        vertical-align: top;\n",
       "    }\n",
       "\n",
       "    .dataframe thead th {\n",
       "        text-align: right;\n",
       "    }\n",
       "</style>\n",
       "<table border=\"1\" class=\"dataframe\">\n",
       "  <thead>\n",
       "    <tr style=\"text-align: right;\">\n",
       "      <th></th>\n",
       "      <th>Unnamed: 0</th>\n",
       "      <th>index</th>\n",
       "      <th>id</th>\n",
       "      <th>gender</th>\n",
       "      <th>age</th>\n",
       "      <th>hemoglobin_concentration</th>\n",
       "      <th>ambient_temperature</th>\n",
       "      <th>uric_acid_value</th>\n",
       "      <th>albumin_value</th>\n",
       "      <th>hdl_cholesterol_value</th>\n",
       "      <th>...</th>\n",
       "      <th>second_weight_measurement</th>\n",
       "      <th>second_height_measurement</th>\n",
       "      <th>knee_heel_distance</th>\n",
       "      <th>calf_circumference</th>\n",
       "      <th>second_waist_measurement</th>\n",
       "      <th>blood_pressure</th>\n",
       "      <th>sleep_in_hours</th>\n",
       "      <th>body_mass</th>\n",
       "      <th>total_activity</th>\n",
       "      <th>hypertension_risk</th>\n",
       "    </tr>\n",
       "  </thead>\n",
       "  <tbody>\n",
       "    <tr>\n",
       "      <th>0</th>\n",
       "      <td>0</td>\n",
       "      <td>0</td>\n",
       "      <td>2.022010e+11</td>\n",
       "      <td>2</td>\n",
       "      <td>41</td>\n",
       "      <td>14.2</td>\n",
       "      <td>22</td>\n",
       "      <td>4.8</td>\n",
       "      <td>4.0</td>\n",
       "      <td>34</td>\n",
       "      <td>...</td>\n",
       "      <td>64.70</td>\n",
       "      <td>154.0</td>\n",
       "      <td>48.5</td>\n",
       "      <td>33.5</td>\n",
       "      <td>222.2</td>\n",
       "      <td>107</td>\n",
       "      <td>4</td>\n",
       "      <td>32.889389</td>\n",
       "      <td>120</td>\n",
       "      <td>1</td>\n",
       "    </tr>\n",
       "    <tr>\n",
       "      <th>1</th>\n",
       "      <td>1</td>\n",
       "      <td>1</td>\n",
       "      <td>2.022010e+11</td>\n",
       "      <td>2</td>\n",
       "      <td>65</td>\n",
       "      <td>14.1</td>\n",
       "      <td>9</td>\n",
       "      <td>4.4</td>\n",
       "      <td>3.8</td>\n",
       "      <td>73</td>\n",
       "      <td>...</td>\n",
       "      <td>96.75</td>\n",
       "      <td>152.2</td>\n",
       "      <td>44.5</td>\n",
       "      <td>41.1</td>\n",
       "      <td>113.7</td>\n",
       "      <td>104</td>\n",
       "      <td>2</td>\n",
       "      <td>1.000000</td>\n",
       "      <td>240</td>\n",
       "      <td>0</td>\n",
       "    </tr>\n",
       "    <tr>\n",
       "      <th>2</th>\n",
       "      <td>2</td>\n",
       "      <td>2</td>\n",
       "      <td>2.022010e+11</td>\n",
       "      <td>2</td>\n",
       "      <td>68</td>\n",
       "      <td>14.2</td>\n",
       "      <td>22</td>\n",
       "      <td>4.8</td>\n",
       "      <td>4.0</td>\n",
       "      <td>34</td>\n",
       "      <td>...</td>\n",
       "      <td>68.70</td>\n",
       "      <td>144.8</td>\n",
       "      <td>42.3</td>\n",
       "      <td>37.8</td>\n",
       "      <td>103.7</td>\n",
       "      <td>105</td>\n",
       "      <td>1</td>\n",
       "      <td>1.000000</td>\n",
       "      <td>480</td>\n",
       "      <td>0</td>\n",
       "    </tr>\n",
       "    <tr>\n",
       "      <th>3</th>\n",
       "      <td>3</td>\n",
       "      <td>3</td>\n",
       "      <td>2.022010e+11</td>\n",
       "      <td>1</td>\n",
       "      <td>35</td>\n",
       "      <td>15.7</td>\n",
       "      <td>11</td>\n",
       "      <td>6.5</td>\n",
       "      <td>4.1</td>\n",
       "      <td>49</td>\n",
       "      <td>...</td>\n",
       "      <td>64.70</td>\n",
       "      <td>154.0</td>\n",
       "      <td>48.5</td>\n",
       "      <td>33.5</td>\n",
       "      <td>222.2</td>\n",
       "      <td>117</td>\n",
       "      <td>5</td>\n",
       "      <td>26.265339</td>\n",
       "      <td>275</td>\n",
       "      <td>1</td>\n",
       "    </tr>\n",
       "    <tr>\n",
       "      <th>4</th>\n",
       "      <td>4</td>\n",
       "      <td>4</td>\n",
       "      <td>2.022010e+11</td>\n",
       "      <td>2</td>\n",
       "      <td>65</td>\n",
       "      <td>12.7</td>\n",
       "      <td>7</td>\n",
       "      <td>4.2</td>\n",
       "      <td>4.2</td>\n",
       "      <td>41</td>\n",
       "      <td>...</td>\n",
       "      <td>97.15</td>\n",
       "      <td>161.3</td>\n",
       "      <td>49.6</td>\n",
       "      <td>42.0</td>\n",
       "      <td>118.9</td>\n",
       "      <td>123</td>\n",
       "      <td>2</td>\n",
       "      <td>1.000000</td>\n",
       "      <td>255</td>\n",
       "      <td>0</td>\n",
       "    </tr>\n",
       "  </tbody>\n",
       "</table>\n",
       "<p>5 rows × 38 columns</p>\n",
       "</div>"
      ],
      "text/plain": [
       "   Unnamed: 0  index            id  gender  age  hemoglobin_concentration  \\\n",
       "0           0      0  2.022010e+11       2   41                      14.2   \n",
       "1           1      1  2.022010e+11       2   65                      14.1   \n",
       "2           2      2  2.022010e+11       2   68                      14.2   \n",
       "3           3      3  2.022010e+11       1   35                      15.7   \n",
       "4           4      4  2.022010e+11       2   65                      12.7   \n",
       "\n",
       "   ambient_temperature  uric_acid_value  albumin_value  hdl_cholesterol_value  \\\n",
       "0                   22              4.8            4.0                     34   \n",
       "1                    9              4.4            3.8                     73   \n",
       "2                   22              4.8            4.0                     34   \n",
       "3                   11              6.5            4.1                     49   \n",
       "4                    7              4.2            4.2                     41   \n",
       "\n",
       "   ...  second_weight_measurement  second_height_measurement  \\\n",
       "0  ...                      64.70                      154.0   \n",
       "1  ...                      96.75                      152.2   \n",
       "2  ...                      68.70                      144.8   \n",
       "3  ...                      64.70                      154.0   \n",
       "4  ...                      97.15                      161.3   \n",
       "\n",
       "   knee_heel_distance  calf_circumference  second_waist_measurement  \\\n",
       "0                48.5                33.5                     222.2   \n",
       "1                44.5                41.1                     113.7   \n",
       "2                42.3                37.8                     103.7   \n",
       "3                48.5                33.5                     222.2   \n",
       "4                49.6                42.0                     118.9   \n",
       "\n",
       "   blood_pressure  sleep_in_hours  body_mass  total_activity  \\\n",
       "0             107               4  32.889389             120   \n",
       "1             104               2   1.000000             240   \n",
       "2             105               1   1.000000             480   \n",
       "3             117               5  26.265339             275   \n",
       "4             123               2   1.000000             255   \n",
       "\n",
       "   hypertension_risk  \n",
       "0                  1  \n",
       "1                  0  \n",
       "2                  0  \n",
       "3                  1  \n",
       "4                  0  \n",
       "\n",
       "[5 rows x 38 columns]"
      ]
     },
     "execution_count": 112,
     "metadata": {},
     "output_type": "execute_result"
    }
   ],
   "source": [
    "# membaca data csv\n",
    "df=pd.read_csv('data\\P2M3_rizqia-dewi_data_clean.csv')\n",
    "df.head()"
   ]
  },
  {
   "cell_type": "code",
   "execution_count": 82,
   "metadata": {},
   "outputs": [
    {
     "name": "stdout",
     "output_type": "stream",
     "text": [
      "<class 'pandas.core.frame.DataFrame'>\n",
      "RangeIndex: 4363 entries, 0 to 4362\n",
      "Data columns (total 38 columns):\n",
      " #   Column                         Non-Null Count  Dtype  \n",
      "---  ------                         --------------  -----  \n",
      " 0   Unnamed: 0                     4363 non-null   int64  \n",
      " 1   index                          4363 non-null   int64  \n",
      " 2   id                             4363 non-null   int64  \n",
      " 3   gender                         4363 non-null   int64  \n",
      " 4   age                            4363 non-null   int64  \n",
      " 5   hemoglobin_concentration       4363 non-null   float64\n",
      " 6   ambient_temperature            4363 non-null   int64  \n",
      " 7   uric_acid_value                4363 non-null   float64\n",
      " 8   albumin_value                  4363 non-null   float64\n",
      " 9   hdl_cholesterol_value          4363 non-null   int64  \n",
      " 10  ldl_cholesterol_value          4363 non-null   float64\n",
      " 11  total_cholesterol_value        4363 non-null   int64  \n",
      " 12  creatinine_value               4363 non-null   float64\n",
      " 13  glucose_result                 4363 non-null   float64\n",
      " 14  insulin_value                  4363 non-null   float64\n",
      " 15  triglycerides_value            4363 non-null   int64  \n",
      " 16  average_glucose_result         4363 non-null   int64  \n",
      " 17  glycosylated_hemoglobin_value  4363 non-null   float64\n",
      " 18  ferritin_value                 4363 non-null   float64\n",
      " 19  folate_value                   4363 non-null   float64\n",
      " 20  homocysteine_value             4363 non-null   float64\n",
      " 21  c_reactive_protein_value       4363 non-null   float64\n",
      " 22  transferrin_value              4363 non-null   float64\n",
      " 23  vitamin_b12_value              4363 non-null   float64\n",
      " 24  vitamin_d_value                4363 non-null   float64\n",
      " 25  weight                         4363 non-null   float64\n",
      " 26  height                         4363 non-null   float64\n",
      " 27  waist_measurement              4363 non-null   float64\n",
      " 28  second_weight_measurement      4363 non-null   float64\n",
      " 29  second_height_measurement      4363 non-null   float64\n",
      " 30  knee_heel_distance             4363 non-null   float64\n",
      " 31  calf_circumference             4363 non-null   float64\n",
      " 32  second_waist_measurement       4363 non-null   float64\n",
      " 33  blood_pressure                 4363 non-null   int64  \n",
      " 34  sleep_in_hours                 4363 non-null   int64  \n",
      " 35  body_mass                      4363 non-null   float64\n",
      " 36  total_activity                 4363 non-null   int64  \n",
      " 37  hypertension_risk              4363 non-null   int64  \n",
      "dtypes: float64(24), int64(14)\n",
      "memory usage: 1.3 MB\n"
     ]
    }
   ],
   "source": [
    "df.info()"
   ]
  },
  {
   "cell_type": "code",
   "execution_count": 83,
   "metadata": {},
   "outputs": [],
   "source": [
    "#mendefine nama, data asset, dan my batch request\n",
    "name = \"Hipertension_Arterial_Mexico\"\n",
    "data_asset = datasource.add_dataframe_asset(name=name)\n",
    "my_batch_request = data_asset.build_batch_request(dataframe=df)"
   ]
  },
  {
   "cell_type": "code",
   "execution_count": 84,
   "metadata": {},
   "outputs": [
    {
     "data": {
      "application/vnd.jupyter.widget-view+json": {
       "model_id": "0bab33f1adad43dfa1191a1441129fd3",
       "version_major": 2,
       "version_minor": 0
      },
      "text/plain": [
       "Calculating Metrics:   0%|          | 0/1 [00:00<?, ?it/s]"
      ]
     },
     "metadata": {},
     "output_type": "display_data"
    },
    {
     "data": {
      "text/html": [
       "<div>\n",
       "<style scoped>\n",
       "    .dataframe tbody tr th:only-of-type {\n",
       "        vertical-align: middle;\n",
       "    }\n",
       "\n",
       "    .dataframe tbody tr th {\n",
       "        vertical-align: top;\n",
       "    }\n",
       "\n",
       "    .dataframe thead th {\n",
       "        text-align: right;\n",
       "    }\n",
       "</style>\n",
       "<table border=\"1\" class=\"dataframe\">\n",
       "  <thead>\n",
       "    <tr style=\"text-align: right;\">\n",
       "      <th></th>\n",
       "      <th>Unnamed: 0</th>\n",
       "      <th>index</th>\n",
       "      <th>id</th>\n",
       "      <th>gender</th>\n",
       "      <th>age</th>\n",
       "      <th>hemoglobin_concentration</th>\n",
       "      <th>ambient_temperature</th>\n",
       "      <th>uric_acid_value</th>\n",
       "      <th>albumin_value</th>\n",
       "      <th>hdl_cholesterol_value</th>\n",
       "      <th>...</th>\n",
       "      <th>second_weight_measurement</th>\n",
       "      <th>second_height_measurement</th>\n",
       "      <th>knee_heel_distance</th>\n",
       "      <th>calf_circumference</th>\n",
       "      <th>second_waist_measurement</th>\n",
       "      <th>blood_pressure</th>\n",
       "      <th>sleep_in_hours</th>\n",
       "      <th>body_mass</th>\n",
       "      <th>total_activity</th>\n",
       "      <th>hypertension_risk</th>\n",
       "    </tr>\n",
       "  </thead>\n",
       "  <tbody>\n",
       "    <tr>\n",
       "      <th>0</th>\n",
       "      <td>0</td>\n",
       "      <td>0</td>\n",
       "      <td>202201001004</td>\n",
       "      <td>2</td>\n",
       "      <td>41</td>\n",
       "      <td>14.2</td>\n",
       "      <td>22</td>\n",
       "      <td>4.8</td>\n",
       "      <td>4.0</td>\n",
       "      <td>34</td>\n",
       "      <td>...</td>\n",
       "      <td>64.70</td>\n",
       "      <td>154.0</td>\n",
       "      <td>48.5</td>\n",
       "      <td>33.5</td>\n",
       "      <td>222.2</td>\n",
       "      <td>107</td>\n",
       "      <td>4</td>\n",
       "      <td>32.889389</td>\n",
       "      <td>120</td>\n",
       "      <td>1</td>\n",
       "    </tr>\n",
       "    <tr>\n",
       "      <th>1</th>\n",
       "      <td>1</td>\n",
       "      <td>1</td>\n",
       "      <td>202201001009</td>\n",
       "      <td>2</td>\n",
       "      <td>65</td>\n",
       "      <td>14.1</td>\n",
       "      <td>9</td>\n",
       "      <td>4.4</td>\n",
       "      <td>3.8</td>\n",
       "      <td>73</td>\n",
       "      <td>...</td>\n",
       "      <td>96.75</td>\n",
       "      <td>152.2</td>\n",
       "      <td>44.5</td>\n",
       "      <td>41.1</td>\n",
       "      <td>113.7</td>\n",
       "      <td>104</td>\n",
       "      <td>2</td>\n",
       "      <td>1.000000</td>\n",
       "      <td>240</td>\n",
       "      <td>0</td>\n",
       "    </tr>\n",
       "    <tr>\n",
       "      <th>2</th>\n",
       "      <td>2</td>\n",
       "      <td>2</td>\n",
       "      <td>202201001012</td>\n",
       "      <td>2</td>\n",
       "      <td>68</td>\n",
       "      <td>14.2</td>\n",
       "      <td>22</td>\n",
       "      <td>4.8</td>\n",
       "      <td>4.0</td>\n",
       "      <td>34</td>\n",
       "      <td>...</td>\n",
       "      <td>68.70</td>\n",
       "      <td>144.8</td>\n",
       "      <td>42.3</td>\n",
       "      <td>37.8</td>\n",
       "      <td>103.7</td>\n",
       "      <td>105</td>\n",
       "      <td>1</td>\n",
       "      <td>1.000000</td>\n",
       "      <td>480</td>\n",
       "      <td>0</td>\n",
       "    </tr>\n",
       "    <tr>\n",
       "      <th>3</th>\n",
       "      <td>3</td>\n",
       "      <td>3</td>\n",
       "      <td>202201001013</td>\n",
       "      <td>1</td>\n",
       "      <td>35</td>\n",
       "      <td>15.7</td>\n",
       "      <td>11</td>\n",
       "      <td>6.5</td>\n",
       "      <td>4.1</td>\n",
       "      <td>49</td>\n",
       "      <td>...</td>\n",
       "      <td>64.70</td>\n",
       "      <td>154.0</td>\n",
       "      <td>48.5</td>\n",
       "      <td>33.5</td>\n",
       "      <td>222.2</td>\n",
       "      <td>117</td>\n",
       "      <td>5</td>\n",
       "      <td>26.265339</td>\n",
       "      <td>275</td>\n",
       "      <td>1</td>\n",
       "    </tr>\n",
       "    <tr>\n",
       "      <th>4</th>\n",
       "      <td>4</td>\n",
       "      <td>4</td>\n",
       "      <td>202201001015</td>\n",
       "      <td>2</td>\n",
       "      <td>65</td>\n",
       "      <td>12.7</td>\n",
       "      <td>7</td>\n",
       "      <td>4.2</td>\n",
       "      <td>4.2</td>\n",
       "      <td>41</td>\n",
       "      <td>...</td>\n",
       "      <td>97.15</td>\n",
       "      <td>161.3</td>\n",
       "      <td>49.6</td>\n",
       "      <td>42.0</td>\n",
       "      <td>118.9</td>\n",
       "      <td>123</td>\n",
       "      <td>2</td>\n",
       "      <td>1.000000</td>\n",
       "      <td>255</td>\n",
       "      <td>0</td>\n",
       "    </tr>\n",
       "  </tbody>\n",
       "</table>\n",
       "<p>5 rows × 38 columns</p>\n",
       "</div>"
      ],
      "text/plain": [
       "   Unnamed: 0  index            id  gender  age  hemoglobin_concentration  \\\n",
       "0           0      0  202201001004       2   41                      14.2   \n",
       "1           1      1  202201001009       2   65                      14.1   \n",
       "2           2      2  202201001012       2   68                      14.2   \n",
       "3           3      3  202201001013       1   35                      15.7   \n",
       "4           4      4  202201001015       2   65                      12.7   \n",
       "\n",
       "   ambient_temperature  uric_acid_value  albumin_value  hdl_cholesterol_value  \\\n",
       "0                   22              4.8            4.0                     34   \n",
       "1                    9              4.4            3.8                     73   \n",
       "2                   22              4.8            4.0                     34   \n",
       "3                   11              6.5            4.1                     49   \n",
       "4                    7              4.2            4.2                     41   \n",
       "\n",
       "   ...  second_weight_measurement  second_height_measurement  \\\n",
       "0  ...                      64.70                      154.0   \n",
       "1  ...                      96.75                      152.2   \n",
       "2  ...                      68.70                      144.8   \n",
       "3  ...                      64.70                      154.0   \n",
       "4  ...                      97.15                      161.3   \n",
       "\n",
       "   knee_heel_distance  calf_circumference  second_waist_measurement  \\\n",
       "0                48.5                33.5                     222.2   \n",
       "1                44.5                41.1                     113.7   \n",
       "2                42.3                37.8                     103.7   \n",
       "3                48.5                33.5                     222.2   \n",
       "4                49.6                42.0                     118.9   \n",
       "\n",
       "   blood_pressure  sleep_in_hours  body_mass  total_activity  \\\n",
       "0             107               4  32.889389             120   \n",
       "1             104               2   1.000000             240   \n",
       "2             105               1   1.000000             480   \n",
       "3             117               5  26.265339             275   \n",
       "4             123               2   1.000000             255   \n",
       "\n",
       "   hypertension_risk  \n",
       "0                  1  \n",
       "1                  0  \n",
       "2                  0  \n",
       "3                  1  \n",
       "4                  0  \n",
       "\n",
       "[5 rows x 38 columns]"
      ]
     },
     "execution_count": 84,
     "metadata": {},
     "output_type": "execute_result"
    }
   ],
   "source": [
    "# Membuat expectation suite\n",
    "expectation_suite_name = 'expectation-Hipertension_Arterial_Mexico-dataset'\n",
    "context.add_or_update_expectation_suite(expectation_suite_name)\n",
    "\n",
    "# Membuat  validator menggunakan expectation suite di atas\n",
    "validator = context.get_validator(\n",
    "    batch_request = my_batch_request,\n",
    "    expectation_suite_name = expectation_suite_name\n",
    ")\n",
    "\n",
    "# Check tvalidator\n",
    "validator.head()"
   ]
  },
  {
   "cell_type": "code",
   "execution_count": 96,
   "metadata": {},
   "outputs": [
    {
     "data": {
      "application/vnd.jupyter.widget-view+json": {
       "model_id": "29642b6e9b2149649e6e34ad0ff9d3ab",
       "version_major": 2,
       "version_minor": 0
      },
      "text/plain": [
       "Calculating Metrics:   0%|          | 0/8 [00:00<?, ?it/s]"
      ]
     },
     "metadata": {},
     "output_type": "display_data"
    },
    {
     "data": {
      "text/plain": [
       "{\n",
       "  \"success\": true,\n",
       "  \"result\": {\n",
       "    \"element_count\": 4363,\n",
       "    \"unexpected_count\": 0,\n",
       "    \"unexpected_percent\": 0.0,\n",
       "    \"partial_unexpected_list\": [],\n",
       "    \"missing_count\": 0,\n",
       "    \"missing_percent\": 0.0,\n",
       "    \"unexpected_percent_total\": 0.0,\n",
       "    \"unexpected_percent_nonmissing\": 0.0\n",
       "  },\n",
       "  \"meta\": {},\n",
       "  \"exception_info\": {\n",
       "    \"raised_exception\": false,\n",
       "    \"exception_traceback\": null,\n",
       "    \"exception_message\": null\n",
       "  }\n",
       "}"
      ]
     },
     "execution_count": 96,
     "metadata": {},
     "output_type": "execute_result"
    }
   ],
   "source": [
    "# Expectation 1 : Kolom `id` harus unik\n",
    "\n",
    "validator.expect_column_values_to_be_unique('index')"
   ]
  },
  {
   "cell_type": "code",
   "execution_count": 86,
   "metadata": {},
   "outputs": [
    {
     "data": {
      "application/vnd.jupyter.widget-view+json": {
       "model_id": "cd839fa4b0974420ad72f044d0bfc65d",
       "version_major": 2,
       "version_minor": 0
      },
      "text/plain": [
       "Calculating Metrics:   0%|          | 0/8 [00:00<?, ?it/s]"
      ]
     },
     "metadata": {},
     "output_type": "display_data"
    },
    {
     "data": {
      "text/plain": [
       "{\n",
       "  \"success\": true,\n",
       "  \"result\": {\n",
       "    \"element_count\": 4363,\n",
       "    \"unexpected_count\": 0,\n",
       "    \"unexpected_percent\": 0.0,\n",
       "    \"partial_unexpected_list\": [],\n",
       "    \"missing_count\": 0,\n",
       "    \"missing_percent\": 0.0,\n",
       "    \"unexpected_percent_total\": 0.0,\n",
       "    \"unexpected_percent_nonmissing\": 0.0\n",
       "  },\n",
       "  \"meta\": {},\n",
       "  \"exception_info\": {\n",
       "    \"raised_exception\": false,\n",
       "    \"exception_traceback\": null,\n",
       "    \"exception_message\": null\n",
       "  }\n",
       "}"
      ]
     },
     "execution_count": 86,
     "metadata": {},
     "output_type": "execute_result"
    }
   ],
   "source": [
    "# Expectation 2 : Column `hypertension_risk` harus kurang dari 1 untuk yang tidak riskan darah tinggi\n",
    "\n",
    "validator.expect_column_values_to_be_between(\n",
    "    column='hypertension_risk', min_value=0, max_value=1\n",
    ")"
   ]
  },
  {
   "cell_type": "code",
   "execution_count": 71,
   "metadata": {},
   "outputs": [
    {
     "data": {
      "application/vnd.jupyter.widget-view+json": {
       "model_id": "f2f0979a78db4296b06520347cc223a2",
       "version_major": 2,
       "version_minor": 0
      },
      "text/plain": [
       "Calculating Metrics:   0%|          | 0/8 [00:00<?, ?it/s]"
      ]
     },
     "metadata": {},
     "output_type": "display_data"
    },
    {
     "data": {
      "text/plain": [
       "{\n",
       "  \"success\": true,\n",
       "  \"result\": {\n",
       "    \"element_count\": 4363,\n",
       "    \"unexpected_count\": 0,\n",
       "    \"unexpected_percent\": 0.0,\n",
       "    \"partial_unexpected_list\": [],\n",
       "    \"missing_count\": 0,\n",
       "    \"missing_percent\": 0.0,\n",
       "    \"unexpected_percent_total\": 0.0,\n",
       "    \"unexpected_percent_nonmissing\": 0.0\n",
       "  },\n",
       "  \"meta\": {},\n",
       "  \"exception_info\": {\n",
       "    \"raised_exception\": false,\n",
       "    \"exception_traceback\": null,\n",
       "    \"exception_message\": null\n",
       "  }\n",
       "}"
      ]
     },
     "execution_count": 71,
     "metadata": {},
     "output_type": "execute_result"
    }
   ],
   "source": [
    "# Expectation 3: Kolom gender hanya bisa terisi dengan:  \"male\", \"female\"\n",
    "validator.expect_column_values_to_be_in_set(\"gender\",[\"male\",\"female\"])"
   ]
  },
  {
   "cell_type": "code",
   "execution_count": 87,
   "metadata": {},
   "outputs": [
    {
     "data": {
      "application/vnd.jupyter.widget-view+json": {
       "model_id": "dc21a6684b3a4c738f3835619f5d479e",
       "version_major": 2,
       "version_minor": 0
      },
      "text/plain": [
       "Calculating Metrics:   0%|          | 0/1 [00:00<?, ?it/s]"
      ]
     },
     "metadata": {},
     "output_type": "display_data"
    },
    {
     "data": {
      "text/plain": [
       "{\n",
       "  \"success\": true,\n",
       "  \"result\": {\n",
       "    \"observed_value\": \"int64\"\n",
       "  },\n",
       "  \"meta\": {},\n",
       "  \"exception_info\": {\n",
       "    \"raised_exception\": false,\n",
       "    \"exception_traceback\": null,\n",
       "    \"exception_message\": null\n",
       "  }\n",
       "}"
      ]
     },
     "execution_count": 87,
     "metadata": {},
     "output_type": "execute_result"
    }
   ],
   "source": [
    "# Expectation 4: Kolom sleep_in_hours harus memiliki tipe integer, tidak boleh bertipe object\n",
    "validator.expect_column_values_to_be_in_type_list('sleep_in_hours', ['int64'])"
   ]
  },
  {
   "cell_type": "code",
   "execution_count": 89,
   "metadata": {},
   "outputs": [
    {
     "data": {
      "application/vnd.jupyter.widget-view+json": {
       "model_id": "a400ca564e544d2db403a1297cae690b",
       "version_major": 2,
       "version_minor": 0
      },
      "text/plain": [
       "Calculating Metrics:   0%|          | 0/9 [00:00<?, ?it/s]"
      ]
     },
     "metadata": {},
     "output_type": "display_data"
    },
    {
     "data": {
      "text/plain": [
       "{\n",
       "  \"success\": true,\n",
       "  \"result\": {\n",
       "    \"element_count\": 4363,\n",
       "    \"unexpected_count\": 0,\n",
       "    \"unexpected_percent\": 0.0,\n",
       "    \"partial_unexpected_list\": [],\n",
       "    \"missing_count\": 0,\n",
       "    \"missing_percent\": 0.0,\n",
       "    \"unexpected_percent_total\": 0.0,\n",
       "    \"unexpected_percent_nonmissing\": 0.0\n",
       "  },\n",
       "  \"meta\": {},\n",
       "  \"exception_info\": {\n",
       "    \"raised_exception\": false,\n",
       "    \"exception_traceback\": null,\n",
       "    \"exception_message\": null\n",
       "  }\n",
       "}"
      ]
     },
     "execution_count": 89,
     "metadata": {},
     "output_type": "execute_result"
    }
   ],
   "source": [
    "# Expectation 5: Jumlah panjang karakter daru kolom id harus berjumlah 12\n",
    "validator.expect_column_value_lengths_to_equal(column='id', value=12)"
   ]
  },
  {
   "cell_type": "code",
   "execution_count": 90,
   "metadata": {},
   "outputs": [
    {
     "data": {
      "application/vnd.jupyter.widget-view+json": {
       "model_id": "a2f6bdfe7ed94bf48e183f0942fe8f10",
       "version_major": 2,
       "version_minor": 0
      },
      "text/plain": [
       "Calculating Metrics:   0%|          | 0/7 [00:00<?, ?it/s]"
      ]
     },
     "metadata": {},
     "output_type": "display_data"
    },
    {
     "data": {
      "text/plain": [
       "{\n",
       "  \"success\": true,\n",
       "  \"result\": {\n",
       "    \"element_count\": 4363,\n",
       "    \"unexpected_count\": 0,\n",
       "    \"unexpected_percent\": 0.0,\n",
       "    \"partial_unexpected_list\": [],\n",
       "    \"missing_count\": 0,\n",
       "    \"missing_percent\": 0.0,\n",
       "    \"unexpected_percent_total\": 0.0,\n",
       "    \"unexpected_percent_nonmissing\": 0.0\n",
       "  },\n",
       "  \"meta\": {},\n",
       "  \"exception_info\": {\n",
       "    \"raised_exception\": false,\n",
       "    \"exception_traceback\": null,\n",
       "    \"exception_message\": null\n",
       "  }\n",
       "}"
      ]
     },
     "execution_count": 90,
     "metadata": {},
     "output_type": "execute_result"
    }
   ],
   "source": [
    "# Expectation 6: tanggal pada kolom total_cholesterol_value harus lebih besar dari hdl_cholesterol_value\n",
    "validator.expect_column_pair_values_a_to_be_greater_than_b(column_A=\"total_cholesterol_value\", column_B=\"hdl_cholesterol_value\", or_equal=True)"
   ]
  },
  {
   "cell_type": "code",
   "execution_count": 91,
   "metadata": {},
   "outputs": [
    {
     "data": {
      "application/vnd.jupyter.widget-view+json": {
       "model_id": "23a5ae251c0b4cdb9a2c2097aae651e5",
       "version_major": 2,
       "version_minor": 0
      },
      "text/plain": [
       "Calculating Metrics:   0%|          | 0/6 [00:00<?, ?it/s]"
      ]
     },
     "metadata": {},
     "output_type": "display_data"
    },
    {
     "data": {
      "text/plain": [
       "{\n",
       "  \"success\": true,\n",
       "  \"result\": {\n",
       "    \"element_count\": 4363,\n",
       "    \"unexpected_count\": 0,\n",
       "    \"unexpected_percent\": 0.0,\n",
       "    \"partial_unexpected_list\": []\n",
       "  },\n",
       "  \"meta\": {},\n",
       "  \"exception_info\": {\n",
       "    \"raised_exception\": false,\n",
       "    \"exception_traceback\": null,\n",
       "    \"exception_message\": null\n",
       "  }\n",
       "}"
      ]
     },
     "execution_count": 91,
     "metadata": {},
     "output_type": "execute_result"
    }
   ],
   "source": [
    "# Expectation 5: Column blood_pressure must have non-null values\n",
    "\n",
    "validator.expect_column_values_to_not_be_null('blood_pressure')"
   ]
  },
  {
   "cell_type": "code",
   "execution_count": 92,
   "metadata": {},
   "outputs": [],
   "source": [
    "# Simpan ke Expectation Suite\n",
    "validator.save_expectation_suite(discard_failed_expectations=False)"
   ]
  },
  {
   "cell_type": "code",
   "execution_count": 93,
   "metadata": {},
   "outputs": [],
   "source": [
    "# Checkpoint\n",
    "checkpoint = context.add_or_update_checkpoint(\n",
    "    name='checkpoint',\n",
    "    validator=validator\n",
    ")"
   ]
  },
  {
   "cell_type": "code",
   "execution_count": 94,
   "metadata": {},
   "outputs": [
    {
     "data": {
      "application/vnd.jupyter.widget-view+json": {
       "model_id": "8709a23e85954151bb5ac4834fde66dd",
       "version_major": 2,
       "version_minor": 0
      },
      "text/plain": [
       "Calculating Metrics:   0%|          | 0/34 [00:00<?, ?it/s]"
      ]
     },
     "metadata": {},
     "output_type": "display_data"
    }
   ],
   "source": [
    "# hasil cek point\n",
    "checkpoint_result = checkpoint.run()"
   ]
  },
  {
   "cell_type": "code",
   "execution_count": 95,
   "metadata": {},
   "outputs": [
    {
     "data": {
      "text/plain": [
       "{'local_site': 'file://C:\\\\Users\\\\RIZQIA~1\\\\AppData\\\\Local\\\\Temp\\\\tmpyz31kmc4\\\\index.html'}"
      ]
     },
     "execution_count": 95,
     "metadata": {},
     "output_type": "execute_result"
    }
   ],
   "source": [
    "# Membuat data docs\n",
    "context.build_data_docs()"
   ]
  },
  {
   "cell_type": "markdown",
   "metadata": {},
   "source": [
    "Apabila ingin melihat rincian keberhasilan untuk setiap expectation dapat menuju halaman berikut \n",
    "\n",
    "{'local_site': 'file://C:\\\\Users\\\\RIZQIA~1\\\\AppData\\\\Local\\\\Temp\\\\tmpyz31kmc4\\\\index.html'}"
   ]
  },
  {
   "cell_type": "code",
   "execution_count": 17,
   "metadata": {},
   "outputs": [
    {
     "data": {
      "text/html": [
       "<div>\n",
       "<style scoped>\n",
       "    .dataframe tbody tr th:only-of-type {\n",
       "        vertical-align: middle;\n",
       "    }\n",
       "\n",
       "    .dataframe tbody tr th {\n",
       "        vertical-align: top;\n",
       "    }\n",
       "\n",
       "    .dataframe thead th {\n",
       "        text-align: right;\n",
       "    }\n",
       "</style>\n",
       "<table border=\"1\" class=\"dataframe\">\n",
       "  <thead>\n",
       "    <tr style=\"text-align: right;\">\n",
       "      <th></th>\n",
       "      <th>FOLIO_I</th>\n",
       "      <th>sexo</th>\n",
       "      <th>edad</th>\n",
       "      <th>concentracion_hemoglobina</th>\n",
       "      <th>temperatura_ambiente</th>\n",
       "      <th>valor_acido_urico</th>\n",
       "      <th>valor_albumina</th>\n",
       "      <th>valor_colesterol_hdl</th>\n",
       "      <th>valor_colesterol_ldl</th>\n",
       "      <th>valor_colesterol_total</th>\n",
       "      <th>...</th>\n",
       "      <th>segundamedicion_peso</th>\n",
       "      <th>segundamedicion_estatura</th>\n",
       "      <th>distancia_rodilla_talon</th>\n",
       "      <th>circunferencia_de_la_pantorrilla</th>\n",
       "      <th>segundamedicion_cintura</th>\n",
       "      <th>tension_arterial</th>\n",
       "      <th>sueno_horas</th>\n",
       "      <th>masa_corporal</th>\n",
       "      <th>actividad_total</th>\n",
       "      <th>riesgo_hipertension</th>\n",
       "    </tr>\n",
       "  </thead>\n",
       "  <tbody>\n",
       "    <tr>\n",
       "      <th>0</th>\n",
       "      <td>2022_01001004</td>\n",
       "      <td>2</td>\n",
       "      <td>41</td>\n",
       "      <td>14.2</td>\n",
       "      <td>22</td>\n",
       "      <td>4.8</td>\n",
       "      <td>4.0</td>\n",
       "      <td>34</td>\n",
       "      <td>86.0</td>\n",
       "      <td>139</td>\n",
       "      <td>...</td>\n",
       "      <td>64.70</td>\n",
       "      <td>154.0</td>\n",
       "      <td>48.5</td>\n",
       "      <td>33.5</td>\n",
       "      <td>222.2</td>\n",
       "      <td>107</td>\n",
       "      <td>4</td>\n",
       "      <td>32.889389</td>\n",
       "      <td>120</td>\n",
       "      <td>1</td>\n",
       "    </tr>\n",
       "    <tr>\n",
       "      <th>1</th>\n",
       "      <td>2022_01001009</td>\n",
       "      <td>2</td>\n",
       "      <td>65</td>\n",
       "      <td>14.1</td>\n",
       "      <td>9</td>\n",
       "      <td>4.4</td>\n",
       "      <td>3.8</td>\n",
       "      <td>73</td>\n",
       "      <td>130.0</td>\n",
       "      <td>252</td>\n",
       "      <td>...</td>\n",
       "      <td>96.75</td>\n",
       "      <td>152.2</td>\n",
       "      <td>44.5</td>\n",
       "      <td>41.1</td>\n",
       "      <td>113.7</td>\n",
       "      <td>104</td>\n",
       "      <td>2</td>\n",
       "      <td>1.000000</td>\n",
       "      <td>240</td>\n",
       "      <td>0</td>\n",
       "    </tr>\n",
       "    <tr>\n",
       "      <th>2</th>\n",
       "      <td>2022_01001012</td>\n",
       "      <td>2</td>\n",
       "      <td>68</td>\n",
       "      <td>14.2</td>\n",
       "      <td>22</td>\n",
       "      <td>4.8</td>\n",
       "      <td>4.0</td>\n",
       "      <td>34</td>\n",
       "      <td>86.0</td>\n",
       "      <td>139</td>\n",
       "      <td>...</td>\n",
       "      <td>68.70</td>\n",
       "      <td>144.8</td>\n",
       "      <td>42.3</td>\n",
       "      <td>37.8</td>\n",
       "      <td>103.7</td>\n",
       "      <td>105</td>\n",
       "      <td>1</td>\n",
       "      <td>1.000000</td>\n",
       "      <td>480</td>\n",
       "      <td>0</td>\n",
       "    </tr>\n",
       "    <tr>\n",
       "      <th>3</th>\n",
       "      <td>2022_01001013</td>\n",
       "      <td>1</td>\n",
       "      <td>35</td>\n",
       "      <td>15.7</td>\n",
       "      <td>11</td>\n",
       "      <td>6.5</td>\n",
       "      <td>4.1</td>\n",
       "      <td>49</td>\n",
       "      <td>107.0</td>\n",
       "      <td>203</td>\n",
       "      <td>...</td>\n",
       "      <td>64.70</td>\n",
       "      <td>154.0</td>\n",
       "      <td>48.5</td>\n",
       "      <td>33.5</td>\n",
       "      <td>222.2</td>\n",
       "      <td>117</td>\n",
       "      <td>5</td>\n",
       "      <td>26.265339</td>\n",
       "      <td>275</td>\n",
       "      <td>1</td>\n",
       "    </tr>\n",
       "    <tr>\n",
       "      <th>4</th>\n",
       "      <td>2022_01001015</td>\n",
       "      <td>2</td>\n",
       "      <td>65</td>\n",
       "      <td>12.7</td>\n",
       "      <td>7</td>\n",
       "      <td>4.2</td>\n",
       "      <td>4.2</td>\n",
       "      <td>41</td>\n",
       "      <td>76.0</td>\n",
       "      <td>145</td>\n",
       "      <td>...</td>\n",
       "      <td>97.15</td>\n",
       "      <td>161.3</td>\n",
       "      <td>49.6</td>\n",
       "      <td>42.0</td>\n",
       "      <td>118.9</td>\n",
       "      <td>123</td>\n",
       "      <td>2</td>\n",
       "      <td>1.000000</td>\n",
       "      <td>255</td>\n",
       "      <td>0</td>\n",
       "    </tr>\n",
       "  </tbody>\n",
       "</table>\n",
       "<p>5 rows × 36 columns</p>\n",
       "</div>"
      ],
      "text/plain": [
       "         FOLIO_I  sexo  edad  concentracion_hemoglobina  temperatura_ambiente  \\\n",
       "0  2022_01001004     2    41                       14.2                    22   \n",
       "1  2022_01001009     2    65                       14.1                     9   \n",
       "2  2022_01001012     2    68                       14.2                    22   \n",
       "3  2022_01001013     1    35                       15.7                    11   \n",
       "4  2022_01001015     2    65                       12.7                     7   \n",
       "\n",
       "   valor_acido_urico  valor_albumina  valor_colesterol_hdl  \\\n",
       "0                4.8             4.0                    34   \n",
       "1                4.4             3.8                    73   \n",
       "2                4.8             4.0                    34   \n",
       "3                6.5             4.1                    49   \n",
       "4                4.2             4.2                    41   \n",
       "\n",
       "   valor_colesterol_ldl  valor_colesterol_total  ...  segundamedicion_peso  \\\n",
       "0                  86.0                     139  ...                 64.70   \n",
       "1                 130.0                     252  ...                 96.75   \n",
       "2                  86.0                     139  ...                 68.70   \n",
       "3                 107.0                     203  ...                 64.70   \n",
       "4                  76.0                     145  ...                 97.15   \n",
       "\n",
       "   segundamedicion_estatura  distancia_rodilla_talon  \\\n",
       "0                     154.0                     48.5   \n",
       "1                     152.2                     44.5   \n",
       "2                     144.8                     42.3   \n",
       "3                     154.0                     48.5   \n",
       "4                     161.3                     49.6   \n",
       "\n",
       "   circunferencia_de_la_pantorrilla  segundamedicion_cintura  \\\n",
       "0                              33.5                    222.2   \n",
       "1                              41.1                    113.7   \n",
       "2                              37.8                    103.7   \n",
       "3                              33.5                    222.2   \n",
       "4                              42.0                    118.9   \n",
       "\n",
       "   tension_arterial  sueno_horas  masa_corporal  actividad_total  \\\n",
       "0               107            4      32.889389              120   \n",
       "1               104            2       1.000000              240   \n",
       "2               105            1       1.000000              480   \n",
       "3               117            5      26.265339              275   \n",
       "4               123            2       1.000000              255   \n",
       "\n",
       "   riesgo_hipertension  \n",
       "0                    1  \n",
       "1                    0  \n",
       "2                    0  \n",
       "3                    1  \n",
       "4                    0  \n",
       "\n",
       "[5 rows x 36 columns]"
      ]
     },
     "execution_count": 17,
     "metadata": {},
     "output_type": "execute_result"
    }
   ],
   "source": [
    "df = pd.read_csv('Hipertension_Arterial_Mexico.csv')\n",
    "df.head()"
   ]
  },
  {
   "cell_type": "code",
   "execution_count": 18,
   "metadata": {},
   "outputs": [
    {
     "name": "stdout",
     "output_type": "stream",
     "text": [
      "<class 'pandas.core.frame.DataFrame'>\n",
      "RangeIndex: 4363 entries, 0 to 4362\n",
      "Data columns (total 36 columns):\n",
      " #   Column                            Non-Null Count  Dtype  \n",
      "---  ------                            --------------  -----  \n",
      " 0   FOLIO_I                           4363 non-null   object \n",
      " 1   sexo                              4363 non-null   int64  \n",
      " 2   edad                              4363 non-null   int64  \n",
      " 3   concentracion_hemoglobina         4363 non-null   float64\n",
      " 4   temperatura_ambiente              4363 non-null   int64  \n",
      " 5   valor_acido_urico                 4363 non-null   float64\n",
      " 6   valor_albumina                    4363 non-null   float64\n",
      " 7   valor_colesterol_hdl              4363 non-null   int64  \n",
      " 8   valor_colesterol_ldl              4363 non-null   float64\n",
      " 9   valor_colesterol_total            4363 non-null   int64  \n",
      " 10  valor_creatina                    4363 non-null   float64\n",
      " 11  resultado_glucosa                 4363 non-null   float64\n",
      " 12  valor_insulina                    4363 non-null   float64\n",
      " 13  valor_trigliceridos               4363 non-null   int64  \n",
      " 14  resultado_glucosa_promedio        4363 non-null   int64  \n",
      " 15  valor_hemoglobina_glucosilada     4363 non-null   float64\n",
      " 16  valor_ferritina                   4363 non-null   float64\n",
      " 17  valor_folato                      4363 non-null   float64\n",
      " 18  valor_homocisteina                4363 non-null   float64\n",
      " 19  valor_proteinac_reactiva          4363 non-null   float64\n",
      " 20  valor_transferrina                4363 non-null   float64\n",
      " 21  valor_vitamina_bdoce              4363 non-null   float64\n",
      " 22  valor_vitamina_d                  4363 non-null   float64\n",
      " 23  peso                              4363 non-null   float64\n",
      " 24  estatura                          4363 non-null   float64\n",
      " 25  medida_cintura                    4363 non-null   float64\n",
      " 26  segundamedicion_peso              4363 non-null   float64\n",
      " 27  segundamedicion_estatura          4363 non-null   float64\n",
      " 28  distancia_rodilla_talon           4363 non-null   float64\n",
      " 29  circunferencia_de_la_pantorrilla  4363 non-null   float64\n",
      " 30  segundamedicion_cintura           4363 non-null   float64\n",
      " 31  tension_arterial                  4363 non-null   int64  \n",
      " 32  sueno_horas                       4363 non-null   int64  \n",
      " 33  masa_corporal                     4363 non-null   float64\n",
      " 34  actividad_total                   4363 non-null   int64  \n",
      " 35  riesgo_hipertension               4363 non-null   int64  \n",
      "dtypes: float64(24), int64(11), object(1)\n",
      "memory usage: 1.2+ MB\n"
     ]
    }
   ],
   "source": [
    "df.info()"
   ]
  },
  {
   "cell_type": "code",
   "execution_count": 19,
   "metadata": {},
   "outputs": [
    {
     "data": {
      "text/plain": [
       "Index(['FOLIO_I', 'sexo', 'edad', 'concentracion_hemoglobina',\n",
       "       'temperatura_ambiente', 'valor_acido_urico', 'valor_albumina',\n",
       "       'valor_colesterol_hdl', 'valor_colesterol_ldl',\n",
       "       'valor_colesterol_total', 'valor_creatina', 'resultado_glucosa',\n",
       "       'valor_insulina', 'valor_trigliceridos', 'resultado_glucosa_promedio',\n",
       "       'valor_hemoglobina_glucosilada', 'valor_ferritina', 'valor_folato',\n",
       "       'valor_homocisteina', 'valor_proteinac_reactiva', 'valor_transferrina',\n",
       "       'valor_vitamina_bdoce', 'valor_vitamina_d', 'peso', 'estatura',\n",
       "       'medida_cintura', 'segundamedicion_peso', 'segundamedicion_estatura',\n",
       "       'distancia_rodilla_talon', 'circunferencia_de_la_pantorrilla',\n",
       "       'segundamedicion_cintura', 'tension_arterial', 'sueno_horas',\n",
       "       'masa_corporal', 'actividad_total', 'riesgo_hipertension'],\n",
       "      dtype='object')"
      ]
     },
     "execution_count": 19,
     "metadata": {},
     "output_type": "execute_result"
    }
   ],
   "source": [
    "df.columns"
   ]
  },
  {
   "cell_type": "code",
   "execution_count": 20,
   "metadata": {},
   "outputs": [
    {
     "data": {
      "text/plain": [
       "array([41, 65, 68, 35, 70, 30, 29, 58, 62, 48, 32, 43, 60, 49, 28, 27, 64,\n",
       "       55, 59, 61, 26, 46, 52, 23, 57, 42, 66, 63, 39, 18, 34, 20, 19, 47,\n",
       "       33, 51, 16, 21, 22, 38, 44, 54, 50, 73, 67, 53, 40, 56, 37, 45, 31,\n",
       "       88, 36, 24, 69, 17, 25, 92,  9, 77, 75, 82, 79, 80, 86, 74, 72, 81,\n",
       "       76, 84, 71, 15, 85, 87, 14, 93, 78,  8,  4, 91, 90, 12, 83],\n",
       "      dtype=int64)"
      ]
     },
     "execution_count": 20,
     "metadata": {},
     "output_type": "execute_result"
    }
   ],
   "source": [
    "df['edad'].unique()"
   ]
  }
 ],
 "metadata": {
  "kernelspec": {
   "display_name": "Python 3",
   "language": "python",
   "name": "python3"
  },
  "language_info": {
   "codemirror_mode": {
    "name": "ipython",
    "version": 3
   },
   "file_extension": ".py",
   "mimetype": "text/x-python",
   "name": "python",
   "nbconvert_exporter": "python",
   "pygments_lexer": "ipython3",
   "version": "3.11.5"
  }
 },
 "nbformat": 4,
 "nbformat_minor": 2
}
